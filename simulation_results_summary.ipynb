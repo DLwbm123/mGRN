{
 "cells": [
  {
   "cell_type": "code",
   "execution_count": 1,
   "metadata": {},
   "outputs": [],
   "source": [
    "# to generate paper tables and figures\n",
    "import pandas as pd\n",
    "import os\n",
    "import numpy as np\n",
    "import matplotlib.pyplot as plt\n",
    "import matplotlib.dates as mdates\n",
    "import matplotlib\n",
    "import pathlib"
   ]
  },
  {
   "cell_type": "code",
   "execution_count": 2,
   "metadata": {},
   "outputs": [],
   "source": [
    "def get_df(full_dir):\n",
    "    if os.path.isfile(full_dir):\n",
    "        this_df = pd.read_excel(full_dir)\n",
    "        if 'Unnamed: 0' in this_df.columns:\n",
    "            this_df.drop(columns = 'Unnamed: 0', inplace = True)\n",
    "        return this_df\n",
    "    else:\n",
    "        return None\n",
    "\n",
    "def get_test_df(result_dir):\n",
    "    sub_dir_list = [x for x in os.listdir(result_dir) if len(x.split('.'))==1]\n",
    "    out_of_sample_list = []\n",
    "    test_list = []\n",
    "    # we select the model with the smallest loss\n",
    "    # for \n",
    "    metric_column = \"loss\"\n",
    "    model_index_list = []\n",
    "    test_ratio_list = []\n",
    "    price_movement_count_list = []\n",
    "    full_ratio_list = []\n",
    "    period_df_list = []\n",
    "    for sub_dir in sub_dir_list:\n",
    "        result_root_dir = os.path.join(result_dir, sub_dir)\n",
    "        this_file = os.path.join(result_root_dir, \"pretrained_model_accuracy_out_of_sample.xlsx\")\n",
    "        out_of_sample_df = get_df(this_file)\n",
    "        lr_file = os.path.join(result_root_dir, \"model\",\"learning_rate.xlsx\")\n",
    "        lr_df = get_df(lr_file)\n",
    "        out_of_sample_df[\"sub_dir\"] = sub_dir\n",
    "        out_of_sample_df['lr'] = lr_df.loc[0].tolist()\n",
    "        model_index = out_of_sample_df[metric_column].idxmin()\n",
    "        # model_index = out_of_sample_df['auc'].idxmax()\n",
    "        model_index_list.append(model_index)\n",
    "        lr = lr_df[str(model_index)].tolist()[0]\n",
    "        out_of_sample_list.append(out_of_sample_df.loc[model_index])\n",
    "        this_file = os.path.join(result_root_dir, \"pretrained_model_accuracy_test.xlsx\")\n",
    "        test_df = get_df(this_file)\n",
    "        test_df[\"sub_dir\"] = sub_dir\n",
    "        test_df[\"lr\"] = lr\n",
    "        test_list.append(test_df.loc[model_index])\n",
    "    # we select\n",
    "    test_df = pd.DataFrame(test_list)\n",
    "    out_of_sample_df = pd.DataFrame(out_of_sample_list)\n",
    "    out_of_sample_df.columns = [x + \"_out_of_sample\" for x in out_of_sample_df.columns]\n",
    "    test_df = test_df.merge(out_of_sample_df, left_on = \"sub_dir\", right_on = \"sub_dir_out_of_sample\", how = 'left')\n",
    "    if len(test_ratio_list)>0:\n",
    "        test_ratio_df = pd.DataFrame(test_ratio_list)\n",
    "        test_ratio_df.columns = [x + \"_test\" for x in test_ratio_df.columns]\n",
    "        test_df = test_df.merge(test_ratio_df, left_on = \"sub_dir\", right_on = \"sub_dir_test\", how = 'left')\n",
    "    test_df.set_index(\"sub_dir\", inplace = True)\n",
    "    return test_df"
   ]
  },
  {
   "cell_type": "code",
   "execution_count": 3,
   "metadata": {},
   "outputs": [
    {
     "name": "stdout",
     "output_type": "stream",
     "text": [
      "1-1.csv\n",
      "10-1.csv\n",
      "2-1.csv\n",
      "3-1.csv\n",
      "4-1.csv\n",
      "5-1.csv\n",
      "6-1.csv\n",
      "7-1.csv\n",
      "8-1.csv\n",
      "9-1.csv\n"
     ]
    }
   ],
   "source": [
    "# current_path = pathlib.Path(__file__).parent.absolute()\n",
    "current_path = os.getcwd()\n",
    "result_dir_root = os.path.join(current_path, 'simulation_pretrained_models')\n",
    "folder_list = os.listdir(result_dir_root)\n",
    "# full_index = [x.split(\".\")[0] for x in folder_list]\n",
    "# pair_index = [x.split(\"-\")[0] for x in full_index ]\n",
    "# try:\n",
    "#     trial_index  = [x.split(\"-\")[1] for x in full_index ]\n",
    "# except:\n",
    "#     trial_index = [1] * len(pair_index)\n",
    "merged_df_list = []\n",
    "for folder in folder_list:\n",
    "    print(folder)\n",
    "    result_dir = os.path.join(result_dir_root, folder) \n",
    "    this_df = get_test_df(result_dir)\n",
    "    merged_df_list.append(this_df)"
   ]
  },
  {
   "cell_type": "code",
   "execution_count": 4,
   "metadata": {},
   "outputs": [],
   "source": [
    "# merge models\n",
    "to_merge_list = ['ChannelwiseLSTM_two_groups', 'ChannelwiseLSTM_total_split', \n",
    "                'mGRN_two_groups', 'mGRN_total_split']\n",
    "processed_df_list = []\n",
    "for this_df in merged_df_list:\n",
    "    processed_rows = [this_df.loc['LSTM'],this_df.loc['GRU']]\n",
    "    for model in to_merge_list:\n",
    "        index_list = [x for x in this_df.index if model in x]\n",
    "        sub_df = this_df.loc[index_list]\n",
    "        processed_row = sub_df.loc[sub_df['loss_out_of_sample'].idxmin()]\n",
    "        processed_row.name = model\n",
    "        processed_rows.append(processed_row)\n",
    "    processed_df = pd.DataFrame(processed_rows)\n",
    "    processed_df_list.append(processed_df)  \n",
    "merged_df_list = processed_df_list"
   ]
  },
  {
   "cell_type": "code",
   "execution_count": 5,
   "metadata": {},
   "outputs": [
    {
     "name": "stdout",
     "output_type": "stream",
     "text": [
      "LSTM: 22.26\n",
      "GRU: 22.20\n",
      "ChannelwiseLSTM_two_groups: 22.06\n",
      "ChannelwiseLSTM_total_split: 21.93\n",
      "mGRN_two_groups: 21.91\n",
      "mGRN_total_split: 21.88\n",
      "theoretical minimum mse: 21.64\n"
     ]
    }
   ],
   "source": [
    "target_column_list= ['loss']\n",
    "model_name_list = merged_df_list[0].index\n",
    "df_list = []\n",
    "for target_column in target_column_list:\n",
    "    target_list = []\n",
    "    for model_name in model_name_list:\n",
    "        temp_list = []\n",
    "        for merged_df in merged_df_list:\n",
    "            this_serires = merged_df.loc[model_name]\n",
    "            temp_list.append(this_serires[target_column])\n",
    "        target_list.append(temp_list)\n",
    "        # target_list.append(np.mean(temp_list))\n",
    "    df = pd.DataFrame.from_records(target_list)\n",
    "    df.index = model_name_list\n",
    "    # df.columns = full_index\n",
    "    df_list.append(df)\n",
    "mean_dict = {}\n",
    "for model_name in model_name_list:\n",
    "    mean_list = []\n",
    "    for df in df_list:\n",
    "        mean_list.append(df.loc[model_name].mean())\n",
    "    mean_dict[model_name] = mean_list[0]\n",
    "    print(model_name + \": {:.2f}\".format(mean_list[0]))\n",
    "#######\n",
    "# theoretical minimum\n",
    "theoretical_minimum_df = pd.read_csv(os.path.join(current_path, 'simulation_data', 'data_generation_matlab', \n",
    "                                                  'theoretical_minimum_mse.csv'), header = None)\n",
    "print(\"theoretical minimum mse: {:.2f}\".format(theoretical_minimum_df[1].mean()))\n",
    "#######"
   ]
  },
  {
   "cell_type": "code",
   "execution_count": 6,
   "metadata": {},
   "outputs": [
    {
     "data": {
      "image/png": "[encoded data removed]",
      "text/plain": [
       "<Figure size 432x288 with 1 Axes>"
      ]
     },
     "metadata": {
      "needs_background": "light"
     },
     "output_type": "display_data"
    }
   ],
   "source": [
    "target_model =  'mGRN_total_split'\n",
    "model_name_list = [x for x in model_name_list if x!=target_model]\n",
    "model_name_list.reverse()\n",
    "axe_label_dict = {'LSTM':'LSTM', 'GRU':'GRU', \n",
    "                  'ChannelwiseLSTM_two_groups':'Channel-wise LSTM \\n(two groups)',\n",
    "                  'ChannelwiseLSTM_total_split': 'Channel-wise LSTM \\n(total split)',\n",
    "                  'mGRN_two_groups': 'mGRN (two groups)',\n",
    "                  'mGRN_total_split': 'mGRN\\n(total split)',                \n",
    "                 }\n",
    "axe_labels = [axe_label_dict[x] for x in model_name_list]\n",
    "font = {'size'   : 15}\n",
    "matplotlib.rc('font', **font)\n",
    "for metric_index, sub_df in enumerate(df_list):\n",
    "    # fig = plt.figure(figsize =(4,3))\n",
    "    fig_len = len(model_name_list)*0.6+1\n",
    "    fig = plt.figure(figsize =(6,fig_len))\n",
    "    ax = plt.axes()\n",
    "    sub_df = sub_df - sub_df.loc[target_model]\n",
    "    to_drop_index = [x for x in sub_df.index if x not in model_name_list]\n",
    "    sub_df.drop(index = to_drop_index, inplace = True)\n",
    "    bp = plt.boxplot(sub_df.loc[model_name_list], widths=0.7, showfliers=False, vert=False)\n",
    "    ax.set_yticklabels(axe_labels)\n",
    "    matplotlib.rcParams.update({'figure.autolayout': True})\n",
    "    n_model = len(model_name_list)\n",
    "    line_pos = [0.5] + list(range(1, n_model+1)) + [n_model+0.5]\n",
    "    line, = plt.plot([0]*len(line_pos),line_pos,  '--')\n",
    "    plt.xlabel('MSE difference', fontsize=15)\n",
    "    plt.show()\n"
   ]
  },
  {
   "cell_type": "code",
   "execution_count": null,
   "metadata": {},
   "outputs": [],
   "source": []
  }
 ],
 "metadata": {
  "kernelspec": {
   "display_name": "pytorch15_env",
   "language": "python",
   "name": "pytorch15_env"
  },
  "language_info": {
   "codemirror_mode": {
    "name": "ipython",
    "version": 3
   },
   "file_extension": ".py",
   "mimetype": "text/x-python",
   "name": "python",
   "nbconvert_exporter": "python",
   "pygments_lexer": "ipython3",
   "version": "3.6.10"
  }
 },
 "nbformat": 4,
 "nbformat_minor": 2
}
